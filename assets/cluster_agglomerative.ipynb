{
 "cells": [
  {
   "cell_type": "code",
   "execution_count": 1,
   "metadata": {},
   "outputs": [
    {
     "data": {
      "text/html": [
       "<div>\n",
       "<style scoped>\n",
       "    .dataframe tbody tr th:only-of-type {\n",
       "        vertical-align: middle;\n",
       "    }\n",
       "\n",
       "    .dataframe tbody tr th {\n",
       "        vertical-align: top;\n",
       "    }\n",
       "\n",
       "    .dataframe thead th {\n",
       "        text-align: right;\n",
       "    }\n",
       "</style>\n",
       "<table border=\"1\" class=\"dataframe\">\n",
       "  <thead>\n",
       "    <tr style=\"text-align: right;\">\n",
       "      <th></th>\n",
       "      <th>from_</th>\n",
       "      <th>to</th>\n",
       "      <th>subject</th>\n",
       "      <th>date</th>\n",
       "      <th>body</th>\n",
       "    </tr>\n",
       "  </thead>\n",
       "  <tbody>\n",
       "    <tr>\n",
       "      <th>0</th>\n",
       "      <td>monique.sanchez@enron.com</td>\n",
       "      <td>sanchez@enron.com, ksanchez@houstonisd.org</td>\n",
       "      <td>RE: Response requested</td>\n",
       "      <td>Wed, 2 May 2001 16:28:00 -0700 (PDT)</td>\n",
       "      <td>just Associate.....at Enron Wholesale Services...</td>\n",
       "    </tr>\n",
       "    <tr>\n",
       "      <th>1</th>\n",
       "      <td>monique.sanchez@enron.com</td>\n",
       "      <td>scottatlas@yahoo.com</td>\n",
       "      <td>RE: Reminder</td>\n",
       "      <td>Wed, 10 Oct 2001 14:51:35 -0700 (PDT)</td>\n",
       "      <td>I would wear nice slacks and a nice shirt...ma...</td>\n",
       "    </tr>\n",
       "    <tr>\n",
       "      <th>2</th>\n",
       "      <td>monique.sanchez@enron.com</td>\n",
       "      <td>rosie.m.gonzalez@chase.com</td>\n",
       "      <td>RE: testing</td>\n",
       "      <td>Wed, 23 May 2001 12:40:57 -0700 (PDT)</td>\n",
       "      <td>I'm glad you remembered my email.  Glad to see...</td>\n",
       "    </tr>\n",
       "    <tr>\n",
       "      <th>3</th>\n",
       "      <td>monique.sanchez@enron.com</td>\n",
       "      <td>joseph.f.reid@accenture.com</td>\n",
       "      <td>Re: you can't hide...</td>\n",
       "      <td>Mon, 14 May 2001 14:53:00 -0700 (PDT)</td>\n",
       "      <td>Hey there,\\n\\nDid you call me at the Derby?  I...</td>\n",
       "    </tr>\n",
       "    <tr>\n",
       "      <th>4</th>\n",
       "      <td>monique.sanchez@enron.com</td>\n",
       "      <td>moshuffle@hotmail.com</td>\n",
       "      <td>FW: Tuesday's P/L</td>\n",
       "      <td>Wed, 30 May 2001 06:49:31 -0700 (PDT)</td>\n",
       "      <td>\\n\\n -----Original Message-----\\nFrom: \\tBike,...</td>\n",
       "    </tr>\n",
       "  </tbody>\n",
       "</table>\n",
       "</div>"
      ],
      "text/plain": [
       "                       from_                                          to  \\\n",
       "0  monique.sanchez@enron.com  sanchez@enron.com, ksanchez@houstonisd.org   \n",
       "1  monique.sanchez@enron.com                        scottatlas@yahoo.com   \n",
       "2  monique.sanchez@enron.com                  rosie.m.gonzalez@chase.com   \n",
       "3  monique.sanchez@enron.com                 joseph.f.reid@accenture.com   \n",
       "4  monique.sanchez@enron.com                       moshuffle@hotmail.com   \n",
       "\n",
       "                  subject                                   date  \\\n",
       "0  RE: Response requested   Wed, 2 May 2001 16:28:00 -0700 (PDT)   \n",
       "1            RE: Reminder  Wed, 10 Oct 2001 14:51:35 -0700 (PDT)   \n",
       "2             RE: testing  Wed, 23 May 2001 12:40:57 -0700 (PDT)   \n",
       "3   Re: you can't hide...  Mon, 14 May 2001 14:53:00 -0700 (PDT)   \n",
       "4       FW: Tuesday's P/L  Wed, 30 May 2001 06:49:31 -0700 (PDT)   \n",
       "\n",
       "                                                body  \n",
       "0  just Associate.....at Enron Wholesale Services...  \n",
       "1  I would wear nice slacks and a nice shirt...ma...  \n",
       "2  I'm glad you remembered my email.  Glad to see...  \n",
       "3  Hey there,\\n\\nDid you call me at the Derby?  I...  \n",
       "4  \\n\\n -----Original Message-----\\nFrom: \\tBike,...  "
      ]
     },
     "execution_count": 1,
     "metadata": {},
     "output_type": "execute_result"
    }
   ],
   "source": [
    "import pandas as pd\n",
    "\n",
    "mail_df = pd.read_csv(\"../data/emails.csv\", sep=\";\", nrows=10000)\n",
    "#mail_df = pd.read_csv(\"../data/emails.csv\", sep=\";\")\n",
    "mail_df = mail_df.drop([\"cc\"], axis=1)\n",
    "mail_df = mail_df.rename(columns={\"from\": \"from_\"})\n",
    "mail_df.drop(mail_df.query(\"from_ == '' | to == '' | subject == '' | date == '' | body == ''\").index, inplace=True)\n",
    "mail_df.head()\n"
   ]
  },
  {
   "cell_type": "code",
   "execution_count": 2,
   "metadata": {},
   "outputs": [],
   "source": [
    "from sklearn.feature_extraction.text import TfidfVectorizer, ENGLISH_STOP_WORDS, CountVectorizer\n",
    "from sklearn.decomposition import PCA\n",
    "from sklearn.cluster import KMeans\n",
    "from matplotlib import pyplot as plt\n",
    "import numpy as np\n",
    "\n",
    "\n",
    "my_stopwords = ENGLISH_STOP_WORDS.union(['ect', 'hou', 'com', 'recipient', 'sent', 'enron', 'cc', 'subject',\\\n",
    "                                         'forwarded', 'corp', 'said', 'attached', 'ect',\\\n",
    "                                         'recipient', 'email', 'original', 'doc', 'pm', 'mail', 'message', 'new'\\\n",
    "                                         'enronxgate', 'na', 'year'])\n",
    "\n",
    "# cv = TfidfVectorizer(stop_words=my_stopwords, max_df=0.50, min_df=2)\n",
    "cv = CountVectorizer(analyzer='word', stop_words=my_stopwords, max_features=2000)\n",
    "\n",
    "\n",
    "X = cv.fit_transform(mail_df.body)\n",
    "\n",
    "X_dense = X.todense()\n",
    "#coords = PCA(n_components=2).fit_transform(X_dense)\n",
    "#plt.scatter(coords[:, 0], coords[:, 1], c='m')\n",
    "#plt.show()"
   ]
  },
  {
   "cell_type": "code",
   "execution_count": 6,
   "metadata": {},
   "outputs": [
    {
     "name": "stdout",
     "output_type": "stream",
     "text": [
      "   features  score\n",
      "0     yahoo      8\n",
      "1     scott      5\n",
      "2  intended      4\n",
      "3   sanchez      3\n",
      "4      nice      3\n",
      "5    friday      3\n",
      "6   monique      3\n",
      "7  reminder      3\n",
      "8        09      2\n",
      "9       use      2\n"
     ]
    }
   ],
   "source": [
    "def top_tfidf_feats(row, features, top_n=20):\n",
    "    topn_ids = np.argsort(row)[::-1][:top_n]\n",
    "    top_feats = [(features[i], row[i]) for i in topn_ids]\n",
    "    df = pd.DataFrame(top_feats, columns=['features', 'score'])\n",
    "    return df\n",
    "\n",
    "def top_feats_in_doc(X, features, row_id, top_n=25):\n",
    "    row = np.squeeze(X[row_id].toarray())\n",
    "    return top_tfidf_feats(row, features, top_n)\n",
    "\n",
    "features = cv.get_feature_names_out()\n",
    "print(top_feats_in_doc(X, features, 1, 10))\n"
   ]
  },
  {
   "cell_type": "code",
   "execution_count": 4,
   "metadata": {},
   "outputs": [
    {
     "data": {
      "image/png": "[encoded data removed]",
      "text/plain": [
       "<Figure size 432x288 with 1 Axes>"
      ]
     },
     "metadata": {},
     "output_type": "display_data"
    }
   ],
   "source": [
    "from sklearn.cluster import AgglomerativeClustering\n",
    "from scipy.cluster.hierarchy import dendrogram\n",
    "\n",
    "#ag = AgglomerativeClustering(n_clusters=100).fit(X.toarray())\n",
    "ag = AgglomerativeClustering(distance_threshold=0, n_clusters=None).fit(X.toarray())\n",
    "\n",
    "def plot_dendrogram(model, **kwargs):\n",
    "    # Create linkage matrix and then plot the dendrogram\n",
    "\n",
    "    # create the counts of samples under each node\n",
    "    counts = np.zeros(model.children_.shape[0])\n",
    "    n_samples = len(model.labels_)\n",
    "    for i, merge in enumerate(model.children_):\n",
    "        current_count = 0\n",
    "        for child_idx in merge:\n",
    "            if child_idx < n_samples:\n",
    "                current_count += 1  # leaf node\n",
    "            else:\n",
    "                current_count += counts[child_idx - n_samples]\n",
    "        counts[i] = current_count\n",
    "\n",
    "    linkage_matrix = np.column_stack(\n",
    "        [model.children_, model.distances_, counts]\n",
    "    ).astype(float)\n",
    "\n",
    "    # Plot the corresponding dendrogram\n",
    "    dendrogram(linkage_matrix, **kwargs)\n",
    "\n",
    "plt.title(\"Hierarchical Clustering Dendrogram\")\n",
    "# plot the top three levels of the dendrogram\n",
    "plot_dendrogram(ag, truncate_mode=\"level\", p=3)\n",
    "plt.xlabel(\"Number of points in node (or index of point if no parenthesis).\")\n",
    "plt.show()"
   ]
  },
  {
   "cell_type": "code",
   "execution_count": null,
   "metadata": {},
   "outputs": [],
   "source": []
  }
 ],
 "metadata": {
  "interpreter": {
   "hash": "916dbcbb3f70747c44a77c7bcd40155683ae19c65e1c03b4aa3499c5328201f1"
  },
  "kernelspec": {
   "display_name": "Python 3.8.10 64-bit",
   "language": "python",
   "name": "python3"
  },
  "language_info": {
   "codemirror_mode": {
    "name": "ipython",
    "version": 3
   },
   "file_extension": ".py",
   "mimetype": "text/x-python",
   "name": "python",
   "nbconvert_exporter": "python",
   "pygments_lexer": "ipython3",
   "version": "3.8.10"
  },
  "orig_nbformat": 4
 },
 "nbformat": 4,
 "nbformat_minor": 2
}
